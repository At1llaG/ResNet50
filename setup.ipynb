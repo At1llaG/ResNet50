{
 "cells": [
  {
   "cell_type": "code",
   "execution_count": 1,
   "metadata": {},
   "outputs": [
    {
     "name": "stdout",
     "output_type": "stream",
     "text": [
      "Requirement already satisfied: pip in c:\\users\\ismai\\appdata\\local\\packages\\pythonsoftwarefoundation.python.3.11_qbz5n2kfra8p0\\localcache\\local-packages\\python311\\site-packages (23.3.2)\n"
     ]
    }
   ],
   "source": [
    "!python3 -m pip install --upgrade pip"
   ]
  },
  {
   "cell_type": "code",
   "execution_count": 2,
   "metadata": {},
   "outputs": [
    {
     "name": "stdout",
     "output_type": "stream",
     "text": [
      "Requirement already satisfied: pip in c:\\users\\ismai\\onedrive\\masaüstü\\ai-project\\myenv\\lib\\site-packages (23.3.2)\n"
     ]
    }
   ],
   "source": [
    "!pip3 install --upgrade pip"
   ]
  },
  {
   "cell_type": "code",
   "execution_count": 3,
   "metadata": {},
   "outputs": [
    {
     "name": "stdout",
     "output_type": "stream",
     "text": [
      "Requirement already satisfied: ipykernel in c:\\users\\ismai\\onedrive\\masaüstü\\ai-project\\myenv\\lib\\site-packages (6.28.0)\n",
      "Requirement already satisfied: comm>=0.1.1 in c:\\users\\ismai\\onedrive\\masaüstü\\ai-project\\myenv\\lib\\site-packages (from ipykernel) (0.2.1)\n",
      "Requirement already satisfied: debugpy>=1.6.5 in c:\\users\\ismai\\onedrive\\masaüstü\\ai-project\\myenv\\lib\\site-packages (from ipykernel) (1.8.0)\n",
      "Requirement already satisfied: ipython>=7.23.1 in c:\\users\\ismai\\onedrive\\masaüstü\\ai-project\\myenv\\lib\\site-packages (from ipykernel) (8.19.0)\n",
      "Requirement already satisfied: jupyter-client>=6.1.12 in c:\\users\\ismai\\onedrive\\masaüstü\\ai-project\\myenv\\lib\\site-packages (from ipykernel) (8.6.0)\n",
      "Requirement already satisfied: jupyter-core!=5.0.*,>=4.12 in c:\\users\\ismai\\onedrive\\masaüstü\\ai-project\\myenv\\lib\\site-packages (from ipykernel) (5.7.0)\n",
      "Requirement already satisfied: matplotlib-inline>=0.1 in c:\\users\\ismai\\onedrive\\masaüstü\\ai-project\\myenv\\lib\\site-packages (from ipykernel) (0.1.6)\n",
      "Requirement already satisfied: nest-asyncio in c:\\users\\ismai\\onedrive\\masaüstü\\ai-project\\myenv\\lib\\site-packages (from ipykernel) (1.5.8)\n",
      "Requirement already satisfied: packaging in c:\\users\\ismai\\onedrive\\masaüstü\\ai-project\\myenv\\lib\\site-packages (from ipykernel) (23.2)\n",
      "Requirement already satisfied: psutil in c:\\users\\ismai\\onedrive\\masaüstü\\ai-project\\myenv\\lib\\site-packages (from ipykernel) (5.9.7)\n",
      "Requirement already satisfied: pyzmq>=24 in c:\\users\\ismai\\onedrive\\masaüstü\\ai-project\\myenv\\lib\\site-packages (from ipykernel) (25.1.2)\n",
      "Requirement already satisfied: tornado>=6.1 in c:\\users\\ismai\\onedrive\\masaüstü\\ai-project\\myenv\\lib\\site-packages (from ipykernel) (6.4)\n",
      "Requirement already satisfied: traitlets>=5.4.0 in c:\\users\\ismai\\onedrive\\masaüstü\\ai-project\\myenv\\lib\\site-packages (from ipykernel) (5.14.1)\n",
      "Requirement already satisfied: decorator in c:\\users\\ismai\\onedrive\\masaüstü\\ai-project\\myenv\\lib\\site-packages (from ipython>=7.23.1->ipykernel) (5.1.1)\n",
      "Requirement already satisfied: jedi>=0.16 in c:\\users\\ismai\\onedrive\\masaüstü\\ai-project\\myenv\\lib\\site-packages (from ipython>=7.23.1->ipykernel) (0.19.1)\n",
      "Requirement already satisfied: prompt-toolkit<3.1.0,>=3.0.41 in c:\\users\\ismai\\onedrive\\masaüstü\\ai-project\\myenv\\lib\\site-packages (from ipython>=7.23.1->ipykernel) (3.0.43)\n",
      "Requirement already satisfied: pygments>=2.4.0 in c:\\users\\ismai\\onedrive\\masaüstü\\ai-project\\myenv\\lib\\site-packages (from ipython>=7.23.1->ipykernel) (2.17.2)\n",
      "Requirement already satisfied: stack-data in c:\\users\\ismai\\onedrive\\masaüstü\\ai-project\\myenv\\lib\\site-packages (from ipython>=7.23.1->ipykernel) (0.6.3)\n",
      "Requirement already satisfied: colorama in c:\\users\\ismai\\onedrive\\masaüstü\\ai-project\\myenv\\lib\\site-packages (from ipython>=7.23.1->ipykernel) (0.4.6)\n",
      "Requirement already satisfied: python-dateutil>=2.8.2 in c:\\users\\ismai\\onedrive\\masaüstü\\ai-project\\myenv\\lib\\site-packages (from jupyter-client>=6.1.12->ipykernel) (2.8.2)\n",
      "Requirement already satisfied: platformdirs>=2.5 in c:\\users\\ismai\\onedrive\\masaüstü\\ai-project\\myenv\\lib\\site-packages (from jupyter-core!=5.0.*,>=4.12->ipykernel) (4.1.0)\n",
      "Requirement already satisfied: pywin32>=300 in c:\\users\\ismai\\onedrive\\masaüstü\\ai-project\\myenv\\lib\\site-packages (from jupyter-core!=5.0.*,>=4.12->ipykernel) (306)\n",
      "Requirement already satisfied: parso<0.9.0,>=0.8.3 in c:\\users\\ismai\\onedrive\\masaüstü\\ai-project\\myenv\\lib\\site-packages (from jedi>=0.16->ipython>=7.23.1->ipykernel) (0.8.3)\n",
      "Requirement already satisfied: wcwidth in c:\\users\\ismai\\onedrive\\masaüstü\\ai-project\\myenv\\lib\\site-packages (from prompt-toolkit<3.1.0,>=3.0.41->ipython>=7.23.1->ipykernel) (0.2.13)\n",
      "Requirement already satisfied: six>=1.5 in c:\\users\\ismai\\onedrive\\masaüstü\\ai-project\\myenv\\lib\\site-packages (from python-dateutil>=2.8.2->jupyter-client>=6.1.12->ipykernel) (1.16.0)\n",
      "Requirement already satisfied: executing>=1.2.0 in c:\\users\\ismai\\onedrive\\masaüstü\\ai-project\\myenv\\lib\\site-packages (from stack-data->ipython>=7.23.1->ipykernel) (2.0.1)\n",
      "Requirement already satisfied: asttokens>=2.1.0 in c:\\users\\ismai\\onedrive\\masaüstü\\ai-project\\myenv\\lib\\site-packages (from stack-data->ipython>=7.23.1->ipykernel) (2.4.1)\n",
      "Requirement already satisfied: pure-eval in c:\\users\\ismai\\onedrive\\masaüstü\\ai-project\\myenv\\lib\\site-packages (from stack-data->ipython>=7.23.1->ipykernel) (0.2.2)\n"
     ]
    }
   ],
   "source": [
    "!pip3 install ipykernel"
   ]
  },
  {
   "cell_type": "code",
   "execution_count": 4,
   "metadata": {},
   "outputs": [
    {
     "name": "stdout",
     "output_type": "stream",
     "text": [
      "Requirement already satisfied: ipython in c:\\users\\ismai\\onedrive\\masaüstü\\ai-project\\myenv\\lib\\site-packages (8.19.0)\n",
      "Requirement already satisfied: decorator in c:\\users\\ismai\\onedrive\\masaüstü\\ai-project\\myenv\\lib\\site-packages (from ipython) (5.1.1)\n",
      "Requirement already satisfied: jedi>=0.16 in c:\\users\\ismai\\onedrive\\masaüstü\\ai-project\\myenv\\lib\\site-packages (from ipython) (0.19.1)\n",
      "Requirement already satisfied: matplotlib-inline in c:\\users\\ismai\\onedrive\\masaüstü\\ai-project\\myenv\\lib\\site-packages (from ipython) (0.1.6)\n",
      "Requirement already satisfied: prompt-toolkit<3.1.0,>=3.0.41 in c:\\users\\ismai\\onedrive\\masaüstü\\ai-project\\myenv\\lib\\site-packages (from ipython) (3.0.43)\n",
      "Requirement already satisfied: pygments>=2.4.0 in c:\\users\\ismai\\onedrive\\masaüstü\\ai-project\\myenv\\lib\\site-packages (from ipython) (2.17.2)\n",
      "Requirement already satisfied: stack-data in c:\\users\\ismai\\onedrive\\masaüstü\\ai-project\\myenv\\lib\\site-packages (from ipython) (0.6.3)\n",
      "Requirement already satisfied: traitlets>=5 in c:\\users\\ismai\\onedrive\\masaüstü\\ai-project\\myenv\\lib\\site-packages (from ipython) (5.14.1)\n",
      "Requirement already satisfied: colorama in c:\\users\\ismai\\onedrive\\masaüstü\\ai-project\\myenv\\lib\\site-packages (from ipython) (0.4.6)\n",
      "Requirement already satisfied: parso<0.9.0,>=0.8.3 in c:\\users\\ismai\\onedrive\\masaüstü\\ai-project\\myenv\\lib\\site-packages (from jedi>=0.16->ipython) (0.8.3)\n",
      "Requirement already satisfied: wcwidth in c:\\users\\ismai\\onedrive\\masaüstü\\ai-project\\myenv\\lib\\site-packages (from prompt-toolkit<3.1.0,>=3.0.41->ipython) (0.2.13)\n",
      "Requirement already satisfied: executing>=1.2.0 in c:\\users\\ismai\\onedrive\\masaüstü\\ai-project\\myenv\\lib\\site-packages (from stack-data->ipython) (2.0.1)\n",
      "Requirement already satisfied: asttokens>=2.1.0 in c:\\users\\ismai\\onedrive\\masaüstü\\ai-project\\myenv\\lib\\site-packages (from stack-data->ipython) (2.4.1)\n",
      "Requirement already satisfied: pure-eval in c:\\users\\ismai\\onedrive\\masaüstü\\ai-project\\myenv\\lib\\site-packages (from stack-data->ipython) (0.2.2)\n",
      "Requirement already satisfied: six>=1.12.0 in c:\\users\\ismai\\onedrive\\masaüstü\\ai-project\\myenv\\lib\\site-packages (from asttokens>=2.1.0->stack-data->ipython) (1.16.0)\n"
     ]
    }
   ],
   "source": [
    "!pip3 install ipython"
   ]
  },
  {
   "cell_type": "code",
   "execution_count": 5,
   "metadata": {},
   "outputs": [
    {
     "name": "stdout",
     "output_type": "stream",
     "text": [
      "Requirement already satisfied: virtualenv in c:\\users\\ismai\\onedrive\\masaüstü\\ai-project\\myenv\\lib\\site-packages (20.25.0)\n",
      "Requirement already satisfied: distlib<1,>=0.3.7 in c:\\users\\ismai\\onedrive\\masaüstü\\ai-project\\myenv\\lib\\site-packages (from virtualenv) (0.3.8)\n",
      "Requirement already satisfied: filelock<4,>=3.12.2 in c:\\users\\ismai\\onedrive\\masaüstü\\ai-project\\myenv\\lib\\site-packages (from virtualenv) (3.13.1)\n",
      "Requirement already satisfied: platformdirs<5,>=3.9.1 in c:\\users\\ismai\\onedrive\\masaüstü\\ai-project\\myenv\\lib\\site-packages (from virtualenv) (4.1.0)\n"
     ]
    }
   ],
   "source": [
    "!pip3 install virtualenv"
   ]
  },
  {
   "cell_type": "code",
   "execution_count": 6,
   "metadata": {},
   "outputs": [
    {
     "name": "stderr",
     "output_type": "stream",
     "text": [
      "Error: [Errno 13] Permission denied: 'c:\\\\Users\\\\ismai\\\\OneDrive\\\\Masaüstü\\\\AI-Project\\\\myenv\\\\Scripts\\\\python.exe'\n"
     ]
    }
   ],
   "source": [
    "!python3 -m venv myenv"
   ]
  },
  {
   "cell_type": "code",
   "execution_count": 7,
   "metadata": {},
   "outputs": [
    {
     "name": "stdout",
     "output_type": "stream",
     "text": [
      "Installed kernelspec myenv in C:\\Users\\ismai\\AppData\\Roaming\\jupyter\\kernels\\myenv\n"
     ]
    },
    {
     "name": "stderr",
     "output_type": "stream",
     "text": [
      "0.01s - Debugger warning: It seems that frozen modules are being used, which may\n",
      "0.00s - make the debugger miss breakpoints. Please pass -Xfrozen_modules=off\n",
      "0.00s - to python to disable frozen modules.\n",
      "0.00s - Note: Debugging will proceed. Set PYDEVD_DISABLE_FILE_VALIDATION=1 to disable this validation.\n"
     ]
    },
    {
     "name": "stdout",
     "output_type": "stream",
     "text": [
      "Installed kernelspec myenv in C:\\ProgramData\\jupyter\\kernels\\myenv\n"
     ]
    },
    {
     "name": "stderr",
     "output_type": "stream",
     "text": [
      "0.01s - Debugger warning: It seems that frozen modules are being used, which may\n",
      "0.00s - make the debugger miss breakpoints. Please pass -Xfrozen_modules=off\n",
      "0.00s - to python to disable frozen modules.\n",
      "0.00s - Note: Debugging will proceed. Set PYDEVD_DISABLE_FILE_VALIDATION=1 to disable this validation.\n"
     ]
    },
    {
     "name": "stdout",
     "output_type": "stream",
     "text": [
      "Installed kernelspec myenv in C:\\Users\\ismai\\AppData\\Roaming\\jupyter\\kernels\\myenv\n"
     ]
    },
    {
     "name": "stderr",
     "output_type": "stream",
     "text": [
      "0.00s - Debugger warning: It seems that frozen modules are being used, which may\n",
      "0.00s - make the debugger miss breakpoints. Please pass -Xfrozen_modules=off\n",
      "0.00s - to python to disable frozen modules.\n",
      "0.00s - Note: Debugging will proceed. Set PYDEVD_DISABLE_FILE_VALIDATION=1 to disable this validation.\n"
     ]
    }
   ],
   "source": [
    "!python3 -m ipykernel install --user --name=myenv\n",
    "!python3 -m ipykernel install --name=myenv\n",
    "!ipython kernel install --user --name=myenv"
   ]
  },
  {
   "cell_type": "code",
   "execution_count": 8,
   "metadata": {},
   "outputs": [],
   "source": [
    "#ACTIVATE VENV\n",
    "#!myenv\\Scripts\\activate"
   ]
  },
  {
   "cell_type": "code",
   "execution_count": 9,
   "metadata": {},
   "outputs": [
    {
     "name": "stdout",
     "output_type": "stream",
     "text": [
      "Requirement already satisfied: pip in c:\\users\\ismai\\onedrive\\masaüstü\\ai-project\\myenv\\lib\\site-packages (23.3.2)\n"
     ]
    }
   ],
   "source": [
    "!pip3 install --upgrade pip"
   ]
  },
  {
   "cell_type": "code",
   "execution_count": 10,
   "metadata": {},
   "outputs": [
    {
     "name": "stdout",
     "output_type": "stream",
     "text": [
      "Requirement already satisfied: ipykernel in c:\\users\\ismai\\onedrive\\masaüstü\\ai-project\\myenv\\lib\\site-packages (6.28.0)\n",
      "Requirement already satisfied: comm>=0.1.1 in c:\\users\\ismai\\onedrive\\masaüstü\\ai-project\\myenv\\lib\\site-packages (from ipykernel) (0.2.1)\n",
      "Requirement already satisfied: debugpy>=1.6.5 in c:\\users\\ismai\\onedrive\\masaüstü\\ai-project\\myenv\\lib\\site-packages (from ipykernel) (1.8.0)\n",
      "Requirement already satisfied: ipython>=7.23.1 in c:\\users\\ismai\\onedrive\\masaüstü\\ai-project\\myenv\\lib\\site-packages (from ipykernel) (8.19.0)\n",
      "Requirement already satisfied: jupyter-client>=6.1.12 in c:\\users\\ismai\\onedrive\\masaüstü\\ai-project\\myenv\\lib\\site-packages (from ipykernel) (8.6.0)\n",
      "Requirement already satisfied: jupyter-core!=5.0.*,>=4.12 in c:\\users\\ismai\\onedrive\\masaüstü\\ai-project\\myenv\\lib\\site-packages (from ipykernel) (5.7.0)\n",
      "Requirement already satisfied: matplotlib-inline>=0.1 in c:\\users\\ismai\\onedrive\\masaüstü\\ai-project\\myenv\\lib\\site-packages (from ipykernel) (0.1.6)\n",
      "Requirement already satisfied: nest-asyncio in c:\\users\\ismai\\onedrive\\masaüstü\\ai-project\\myenv\\lib\\site-packages (from ipykernel) (1.5.8)\n",
      "Requirement already satisfied: packaging in c:\\users\\ismai\\onedrive\\masaüstü\\ai-project\\myenv\\lib\\site-packages (from ipykernel) (23.2)\n",
      "Requirement already satisfied: psutil in c:\\users\\ismai\\onedrive\\masaüstü\\ai-project\\myenv\\lib\\site-packages (from ipykernel) (5.9.7)\n",
      "Requirement already satisfied: pyzmq>=24 in c:\\users\\ismai\\onedrive\\masaüstü\\ai-project\\myenv\\lib\\site-packages (from ipykernel) (25.1.2)\n",
      "Requirement already satisfied: tornado>=6.1 in c:\\users\\ismai\\onedrive\\masaüstü\\ai-project\\myenv\\lib\\site-packages (from ipykernel) (6.4)\n",
      "Requirement already satisfied: traitlets>=5.4.0 in c:\\users\\ismai\\onedrive\\masaüstü\\ai-project\\myenv\\lib\\site-packages (from ipykernel) (5.14.1)\n",
      "Requirement already satisfied: decorator in c:\\users\\ismai\\onedrive\\masaüstü\\ai-project\\myenv\\lib\\site-packages (from ipython>=7.23.1->ipykernel) (5.1.1)\n",
      "Requirement already satisfied: jedi>=0.16 in c:\\users\\ismai\\onedrive\\masaüstü\\ai-project\\myenv\\lib\\site-packages (from ipython>=7.23.1->ipykernel) (0.19.1)\n",
      "Requirement already satisfied: prompt-toolkit<3.1.0,>=3.0.41 in c:\\users\\ismai\\onedrive\\masaüstü\\ai-project\\myenv\\lib\\site-packages (from ipython>=7.23.1->ipykernel) (3.0.43)\n",
      "Requirement already satisfied: pygments>=2.4.0 in c:\\users\\ismai\\onedrive\\masaüstü\\ai-project\\myenv\\lib\\site-packages (from ipython>=7.23.1->ipykernel) (2.17.2)\n",
      "Requirement already satisfied: stack-data in c:\\users\\ismai\\onedrive\\masaüstü\\ai-project\\myenv\\lib\\site-packages (from ipython>=7.23.1->ipykernel) (0.6.3)\n",
      "Requirement already satisfied: colorama in c:\\users\\ismai\\onedrive\\masaüstü\\ai-project\\myenv\\lib\\site-packages (from ipython>=7.23.1->ipykernel) (0.4.6)\n",
      "Requirement already satisfied: python-dateutil>=2.8.2 in c:\\users\\ismai\\onedrive\\masaüstü\\ai-project\\myenv\\lib\\site-packages (from jupyter-client>=6.1.12->ipykernel) (2.8.2)\n",
      "Requirement already satisfied: platformdirs>=2.5 in c:\\users\\ismai\\onedrive\\masaüstü\\ai-project\\myenv\\lib\\site-packages (from jupyter-core!=5.0.*,>=4.12->ipykernel) (4.1.0)\n",
      "Requirement already satisfied: pywin32>=300 in c:\\users\\ismai\\onedrive\\masaüstü\\ai-project\\myenv\\lib\\site-packages (from jupyter-core!=5.0.*,>=4.12->ipykernel) (306)\n",
      "Requirement already satisfied: parso<0.9.0,>=0.8.3 in c:\\users\\ismai\\onedrive\\masaüstü\\ai-project\\myenv\\lib\\site-packages (from jedi>=0.16->ipython>=7.23.1->ipykernel) (0.8.3)\n",
      "Requirement already satisfied: wcwidth in c:\\users\\ismai\\onedrive\\masaüstü\\ai-project\\myenv\\lib\\site-packages (from prompt-toolkit<3.1.0,>=3.0.41->ipython>=7.23.1->ipykernel) (0.2.13)\n",
      "Requirement already satisfied: six>=1.5 in c:\\users\\ismai\\onedrive\\masaüstü\\ai-project\\myenv\\lib\\site-packages (from python-dateutil>=2.8.2->jupyter-client>=6.1.12->ipykernel) (1.16.0)\n",
      "Requirement already satisfied: executing>=1.2.0 in c:\\users\\ismai\\onedrive\\masaüstü\\ai-project\\myenv\\lib\\site-packages (from stack-data->ipython>=7.23.1->ipykernel) (2.0.1)\n",
      "Requirement already satisfied: asttokens>=2.1.0 in c:\\users\\ismai\\onedrive\\masaüstü\\ai-project\\myenv\\lib\\site-packages (from stack-data->ipython>=7.23.1->ipykernel) (2.4.1)\n",
      "Requirement already satisfied: pure-eval in c:\\users\\ismai\\onedrive\\masaüstü\\ai-project\\myenv\\lib\\site-packages (from stack-data->ipython>=7.23.1->ipykernel) (0.2.2)\n"
     ]
    }
   ],
   "source": [
    "!pip3 install ipykernel"
   ]
  },
  {
   "cell_type": "code",
   "execution_count": 11,
   "metadata": {},
   "outputs": [
    {
     "name": "stdout",
     "output_type": "stream",
     "text": [
      "Requirement already satisfied: ipython in c:\\users\\ismai\\onedrive\\masaüstü\\ai-project\\myenv\\lib\\site-packages (8.19.0)\n",
      "Requirement already satisfied: decorator in c:\\users\\ismai\\onedrive\\masaüstü\\ai-project\\myenv\\lib\\site-packages (from ipython) (5.1.1)\n",
      "Requirement already satisfied: jedi>=0.16 in c:\\users\\ismai\\onedrive\\masaüstü\\ai-project\\myenv\\lib\\site-packages (from ipython) (0.19.1)\n",
      "Requirement already satisfied: matplotlib-inline in c:\\users\\ismai\\onedrive\\masaüstü\\ai-project\\myenv\\lib\\site-packages (from ipython) (0.1.6)\n",
      "Requirement already satisfied: prompt-toolkit<3.1.0,>=3.0.41 in c:\\users\\ismai\\onedrive\\masaüstü\\ai-project\\myenv\\lib\\site-packages (from ipython) (3.0.43)\n",
      "Requirement already satisfied: pygments>=2.4.0 in c:\\users\\ismai\\onedrive\\masaüstü\\ai-project\\myenv\\lib\\site-packages (from ipython) (2.17.2)\n",
      "Requirement already satisfied: stack-data in c:\\users\\ismai\\onedrive\\masaüstü\\ai-project\\myenv\\lib\\site-packages (from ipython) (0.6.3)\n",
      "Requirement already satisfied: traitlets>=5 in c:\\users\\ismai\\onedrive\\masaüstü\\ai-project\\myenv\\lib\\site-packages (from ipython) (5.14.1)\n",
      "Requirement already satisfied: colorama in c:\\users\\ismai\\onedrive\\masaüstü\\ai-project\\myenv\\lib\\site-packages (from ipython) (0.4.6)\n",
      "Requirement already satisfied: parso<0.9.0,>=0.8.3 in c:\\users\\ismai\\onedrive\\masaüstü\\ai-project\\myenv\\lib\\site-packages (from jedi>=0.16->ipython) (0.8.3)\n",
      "Requirement already satisfied: wcwidth in c:\\users\\ismai\\onedrive\\masaüstü\\ai-project\\myenv\\lib\\site-packages (from prompt-toolkit<3.1.0,>=3.0.41->ipython) (0.2.13)\n",
      "Requirement already satisfied: executing>=1.2.0 in c:\\users\\ismai\\onedrive\\masaüstü\\ai-project\\myenv\\lib\\site-packages (from stack-data->ipython) (2.0.1)\n",
      "Requirement already satisfied: asttokens>=2.1.0 in c:\\users\\ismai\\onedrive\\masaüstü\\ai-project\\myenv\\lib\\site-packages (from stack-data->ipython) (2.4.1)\n",
      "Requirement already satisfied: pure-eval in c:\\users\\ismai\\onedrive\\masaüstü\\ai-project\\myenv\\lib\\site-packages (from stack-data->ipython) (0.2.2)\n",
      "Requirement already satisfied: six>=1.12.0 in c:\\users\\ismai\\onedrive\\masaüstü\\ai-project\\myenv\\lib\\site-packages (from asttokens>=2.1.0->stack-data->ipython) (1.16.0)\n"
     ]
    }
   ],
   "source": [
    "!pip3 install ipython"
   ]
  },
  {
   "cell_type": "code",
   "execution_count": 12,
   "metadata": {},
   "outputs": [
    {
     "name": "stdout",
     "output_type": "stream",
     "text": [
      "Requirement already satisfied: virtualenv in c:\\users\\ismai\\onedrive\\masaüstü\\ai-project\\myenv\\lib\\site-packages (20.25.0)\n",
      "Requirement already satisfied: distlib<1,>=0.3.7 in c:\\users\\ismai\\onedrive\\masaüstü\\ai-project\\myenv\\lib\\site-packages (from virtualenv) (0.3.8)\n",
      "Requirement already satisfied: filelock<4,>=3.12.2 in c:\\users\\ismai\\onedrive\\masaüstü\\ai-project\\myenv\\lib\\site-packages (from virtualenv) (3.13.1)\n",
      "Requirement already satisfied: platformdirs<5,>=3.9.1 in c:\\users\\ismai\\onedrive\\masaüstü\\ai-project\\myenv\\lib\\site-packages (from virtualenv) (4.1.0)\n"
     ]
    }
   ],
   "source": [
    "!pip3 install virtualenv"
   ]
  },
  {
   "cell_type": "code",
   "execution_count": 13,
   "metadata": {},
   "outputs": [
    {
     "name": "stdout",
     "output_type": "stream",
     "text": [
      "Requirement already satisfied: setuptools in c:\\users\\ismai\\onedrive\\masaüstü\\ai-project\\myenv\\lib\\site-packages (65.5.0)\n",
      "Requirement already satisfied: wheel in c:\\users\\ismai\\onedrive\\masaüstü\\ai-project\\myenv\\lib\\site-packages (0.42.0)\n",
      "Requirement already satisfied: split-folders in c:\\users\\ismai\\onedrive\\masaüstü\\ai-project\\myenv\\lib\\site-packages (0.5.1)\n",
      "Requirement already satisfied: matplotlib in c:\\users\\ismai\\onedrive\\masaüstü\\ai-project\\myenv\\lib\\site-packages (3.8.2)\n",
      "Requirement already satisfied: opencv-python in c:\\users\\ismai\\onedrive\\masaüstü\\ai-project\\myenv\\lib\\site-packages (4.9.0.80)\n",
      "Requirement already satisfied: spicy in c:\\users\\ismai\\onedrive\\masaüstü\\ai-project\\myenv\\lib\\site-packages (0.16.0)\n",
      "Requirement already satisfied: keras in c:\\users\\ismai\\onedrive\\masaüstü\\ai-project\\myenv\\lib\\site-packages (2.15.0)\n",
      "Requirement already satisfied: numpy in c:\\users\\ismai\\onedrive\\masaüstü\\ai-project\\myenv\\lib\\site-packages (1.26.3)\n",
      "Requirement already satisfied: tensorflow in c:\\users\\ismai\\onedrive\\masaüstü\\ai-project\\myenv\\lib\\site-packages (2.15.0)\n",
      "Requirement already satisfied: scikit-learn in c:\\users\\ismai\\onedrive\\masaüstü\\ai-project\\myenv\\lib\\site-packages (1.3.2)\n",
      "Requirement already satisfied: keras-resnet in c:\\users\\ismai\\onedrive\\masaüstü\\ai-project\\myenv\\lib\\site-packages (0.2.0)\n",
      "Requirement already satisfied: contourpy>=1.0.1 in c:\\users\\ismai\\onedrive\\masaüstü\\ai-project\\myenv\\lib\\site-packages (from matplotlib) (1.2.0)\n",
      "Requirement already satisfied: cycler>=0.10 in c:\\users\\ismai\\onedrive\\masaüstü\\ai-project\\myenv\\lib\\site-packages (from matplotlib) (0.12.1)\n",
      "Requirement already satisfied: fonttools>=4.22.0 in c:\\users\\ismai\\onedrive\\masaüstü\\ai-project\\myenv\\lib\\site-packages (from matplotlib) (4.47.0)\n",
      "Requirement already satisfied: kiwisolver>=1.3.1 in c:\\users\\ismai\\onedrive\\masaüstü\\ai-project\\myenv\\lib\\site-packages (from matplotlib) (1.4.5)\n",
      "Requirement already satisfied: packaging>=20.0 in c:\\users\\ismai\\onedrive\\masaüstü\\ai-project\\myenv\\lib\\site-packages (from matplotlib) (23.2)\n",
      "Requirement already satisfied: pillow>=8 in c:\\users\\ismai\\onedrive\\masaüstü\\ai-project\\myenv\\lib\\site-packages (from matplotlib) (10.2.0)\n",
      "Requirement already satisfied: pyparsing>=2.3.1 in c:\\users\\ismai\\onedrive\\masaüstü\\ai-project\\myenv\\lib\\site-packages (from matplotlib) (3.1.1)\n",
      "Requirement already satisfied: python-dateutil>=2.7 in c:\\users\\ismai\\onedrive\\masaüstü\\ai-project\\myenv\\lib\\site-packages (from matplotlib) (2.8.2)\n",
      "Requirement already satisfied: scipy in c:\\users\\ismai\\onedrive\\masaüstü\\ai-project\\myenv\\lib\\site-packages (from spicy) (1.11.4)\n",
      "Requirement already satisfied: tensorflow-intel==2.15.0 in c:\\users\\ismai\\onedrive\\masaüstü\\ai-project\\myenv\\lib\\site-packages (from tensorflow) (2.15.0)\n",
      "Requirement already satisfied: absl-py>=1.0.0 in c:\\users\\ismai\\onedrive\\masaüstü\\ai-project\\myenv\\lib\\site-packages (from tensorflow-intel==2.15.0->tensorflow) (2.0.0)\n",
      "Requirement already satisfied: astunparse>=1.6.0 in c:\\users\\ismai\\onedrive\\masaüstü\\ai-project\\myenv\\lib\\site-packages (from tensorflow-intel==2.15.0->tensorflow) (1.6.3)\n",
      "Requirement already satisfied: flatbuffers>=23.5.26 in c:\\users\\ismai\\onedrive\\masaüstü\\ai-project\\myenv\\lib\\site-packages (from tensorflow-intel==2.15.0->tensorflow) (23.5.26)\n",
      "Requirement already satisfied: gast!=0.5.0,!=0.5.1,!=0.5.2,>=0.2.1 in c:\\users\\ismai\\onedrive\\masaüstü\\ai-project\\myenv\\lib\\site-packages (from tensorflow-intel==2.15.0->tensorflow) (0.5.4)\n",
      "Requirement already satisfied: google-pasta>=0.1.1 in c:\\users\\ismai\\onedrive\\masaüstü\\ai-project\\myenv\\lib\\site-packages (from tensorflow-intel==2.15.0->tensorflow) (0.2.0)\n",
      "Requirement already satisfied: h5py>=2.9.0 in c:\\users\\ismai\\onedrive\\masaüstü\\ai-project\\myenv\\lib\\site-packages (from tensorflow-intel==2.15.0->tensorflow) (3.10.0)\n",
      "Requirement already satisfied: libclang>=13.0.0 in c:\\users\\ismai\\onedrive\\masaüstü\\ai-project\\myenv\\lib\\site-packages (from tensorflow-intel==2.15.0->tensorflow) (16.0.6)\n",
      "Requirement already satisfied: ml-dtypes~=0.2.0 in c:\\users\\ismai\\onedrive\\masaüstü\\ai-project\\myenv\\lib\\site-packages (from tensorflow-intel==2.15.0->tensorflow) (0.2.0)\n",
      "Requirement already satisfied: opt-einsum>=2.3.2 in c:\\users\\ismai\\onedrive\\masaüstü\\ai-project\\myenv\\lib\\site-packages (from tensorflow-intel==2.15.0->tensorflow) (3.3.0)\n",
      "Requirement already satisfied: protobuf!=4.21.0,!=4.21.1,!=4.21.2,!=4.21.3,!=4.21.4,!=4.21.5,<5.0.0dev,>=3.20.3 in c:\\users\\ismai\\onedrive\\masaüstü\\ai-project\\myenv\\lib\\site-packages (from tensorflow-intel==2.15.0->tensorflow) (4.23.4)\n",
      "Requirement already satisfied: six>=1.12.0 in c:\\users\\ismai\\onedrive\\masaüstü\\ai-project\\myenv\\lib\\site-packages (from tensorflow-intel==2.15.0->tensorflow) (1.16.0)\n",
      "Requirement already satisfied: termcolor>=1.1.0 in c:\\users\\ismai\\onedrive\\masaüstü\\ai-project\\myenv\\lib\\site-packages (from tensorflow-intel==2.15.0->tensorflow) (2.4.0)\n",
      "Requirement already satisfied: typing-extensions>=3.6.6 in c:\\users\\ismai\\onedrive\\masaüstü\\ai-project\\myenv\\lib\\site-packages (from tensorflow-intel==2.15.0->tensorflow) (4.9.0)\n",
      "Requirement already satisfied: wrapt<1.15,>=1.11.0 in c:\\users\\ismai\\onedrive\\masaüstü\\ai-project\\myenv\\lib\\site-packages (from tensorflow-intel==2.15.0->tensorflow) (1.14.1)\n",
      "Requirement already satisfied: tensorflow-io-gcs-filesystem>=0.23.1 in c:\\users\\ismai\\onedrive\\masaüstü\\ai-project\\myenv\\lib\\site-packages (from tensorflow-intel==2.15.0->tensorflow) (0.31.0)\n",
      "Requirement already satisfied: grpcio<2.0,>=1.24.3 in c:\\users\\ismai\\onedrive\\masaüstü\\ai-project\\myenv\\lib\\site-packages (from tensorflow-intel==2.15.0->tensorflow) (1.60.0)\n",
      "Requirement already satisfied: tensorboard<2.16,>=2.15 in c:\\users\\ismai\\onedrive\\masaüstü\\ai-project\\myenv\\lib\\site-packages (from tensorflow-intel==2.15.0->tensorflow) (2.15.1)\n",
      "Requirement already satisfied: tensorflow-estimator<2.16,>=2.15.0 in c:\\users\\ismai\\onedrive\\masaüstü\\ai-project\\myenv\\lib\\site-packages (from tensorflow-intel==2.15.0->tensorflow) (2.15.0)\n",
      "Requirement already satisfied: joblib>=1.1.1 in c:\\users\\ismai\\onedrive\\masaüstü\\ai-project\\myenv\\lib\\site-packages (from scikit-learn) (1.3.2)\n",
      "Requirement already satisfied: threadpoolctl>=2.0.0 in c:\\users\\ismai\\onedrive\\masaüstü\\ai-project\\myenv\\lib\\site-packages (from scikit-learn) (3.2.0)\n",
      "Requirement already satisfied: google-auth<3,>=1.6.3 in c:\\users\\ismai\\onedrive\\masaüstü\\ai-project\\myenv\\lib\\site-packages (from tensorboard<2.16,>=2.15->tensorflow-intel==2.15.0->tensorflow) (2.26.1)\n",
      "Requirement already satisfied: google-auth-oauthlib<2,>=0.5 in c:\\users\\ismai\\onedrive\\masaüstü\\ai-project\\myenv\\lib\\site-packages (from tensorboard<2.16,>=2.15->tensorflow-intel==2.15.0->tensorflow) (1.2.0)\n",
      "Requirement already satisfied: markdown>=2.6.8 in c:\\users\\ismai\\onedrive\\masaüstü\\ai-project\\myenv\\lib\\site-packages (from tensorboard<2.16,>=2.15->tensorflow-intel==2.15.0->tensorflow) (3.5.1)\n",
      "Requirement already satisfied: requests<3,>=2.21.0 in c:\\users\\ismai\\onedrive\\masaüstü\\ai-project\\myenv\\lib\\site-packages (from tensorboard<2.16,>=2.15->tensorflow-intel==2.15.0->tensorflow) (2.31.0)\n",
      "Requirement already satisfied: tensorboard-data-server<0.8.0,>=0.7.0 in c:\\users\\ismai\\onedrive\\masaüstü\\ai-project\\myenv\\lib\\site-packages (from tensorboard<2.16,>=2.15->tensorflow-intel==2.15.0->tensorflow) (0.7.2)\n",
      "Requirement already satisfied: werkzeug>=1.0.1 in c:\\users\\ismai\\onedrive\\masaüstü\\ai-project\\myenv\\lib\\site-packages (from tensorboard<2.16,>=2.15->tensorflow-intel==2.15.0->tensorflow) (3.0.1)\n",
      "Requirement already satisfied: cachetools<6.0,>=2.0.0 in c:\\users\\ismai\\onedrive\\masaüstü\\ai-project\\myenv\\lib\\site-packages (from google-auth<3,>=1.6.3->tensorboard<2.16,>=2.15->tensorflow-intel==2.15.0->tensorflow) (5.3.2)\n",
      "Requirement already satisfied: pyasn1-modules>=0.2.1 in c:\\users\\ismai\\onedrive\\masaüstü\\ai-project\\myenv\\lib\\site-packages (from google-auth<3,>=1.6.3->tensorboard<2.16,>=2.15->tensorflow-intel==2.15.0->tensorflow) (0.3.0)\n",
      "Requirement already satisfied: rsa<5,>=3.1.4 in c:\\users\\ismai\\onedrive\\masaüstü\\ai-project\\myenv\\lib\\site-packages (from google-auth<3,>=1.6.3->tensorboard<2.16,>=2.15->tensorflow-intel==2.15.0->tensorflow) (4.9)\n",
      "Requirement already satisfied: requests-oauthlib>=0.7.0 in c:\\users\\ismai\\onedrive\\masaüstü\\ai-project\\myenv\\lib\\site-packages (from google-auth-oauthlib<2,>=0.5->tensorboard<2.16,>=2.15->tensorflow-intel==2.15.0->tensorflow) (1.3.1)\n",
      "Requirement already satisfied: charset-normalizer<4,>=2 in c:\\users\\ismai\\onedrive\\masaüstü\\ai-project\\myenv\\lib\\site-packages (from requests<3,>=2.21.0->tensorboard<2.16,>=2.15->tensorflow-intel==2.15.0->tensorflow) (3.3.2)\n",
      "Requirement already satisfied: idna<4,>=2.5 in c:\\users\\ismai\\onedrive\\masaüstü\\ai-project\\myenv\\lib\\site-packages (from requests<3,>=2.21.0->tensorboard<2.16,>=2.15->tensorflow-intel==2.15.0->tensorflow) (3.6)\n",
      "Requirement already satisfied: urllib3<3,>=1.21.1 in c:\\users\\ismai\\onedrive\\masaüstü\\ai-project\\myenv\\lib\\site-packages (from requests<3,>=2.21.0->tensorboard<2.16,>=2.15->tensorflow-intel==2.15.0->tensorflow) (2.1.0)\n",
      "Requirement already satisfied: certifi>=2017.4.17 in c:\\users\\ismai\\onedrive\\masaüstü\\ai-project\\myenv\\lib\\site-packages (from requests<3,>=2.21.0->tensorboard<2.16,>=2.15->tensorflow-intel==2.15.0->tensorflow) (2023.11.17)\n",
      "Requirement already satisfied: MarkupSafe>=2.1.1 in c:\\users\\ismai\\onedrive\\masaüstü\\ai-project\\myenv\\lib\\site-packages (from werkzeug>=1.0.1->tensorboard<2.16,>=2.15->tensorflow-intel==2.15.0->tensorflow) (2.1.3)\n",
      "Requirement already satisfied: pyasn1<0.6.0,>=0.4.6 in c:\\users\\ismai\\onedrive\\masaüstü\\ai-project\\myenv\\lib\\site-packages (from pyasn1-modules>=0.2.1->google-auth<3,>=1.6.3->tensorboard<2.16,>=2.15->tensorflow-intel==2.15.0->tensorflow) (0.5.1)\n",
      "Requirement already satisfied: oauthlib>=3.0.0 in c:\\users\\ismai\\onedrive\\masaüstü\\ai-project\\myenv\\lib\\site-packages (from requests-oauthlib>=0.7.0->google-auth-oauthlib<2,>=0.5->tensorboard<2.16,>=2.15->tensorflow-intel==2.15.0->tensorflow) (3.2.2)\n"
     ]
    }
   ],
   "source": [
    "# python librairies installation\n",
    "!pip3 install setuptools wheel split-folders matplotlib opencv-python spicy keras numpy tensorflow scikit-learn keras-resnet"
   ]
  },
  {
   "cell_type": "code",
   "execution_count": 14,
   "metadata": {},
   "outputs": [
    {
     "name": "stdout",
     "output_type": "stream",
     "text": [
      "Requirement already satisfied: absl-py==2.0.0 in c:\\users\\ismai\\onedrive\\masaüstü\\ai-project\\myenv\\lib\\site-packages (from -r requirements.txt (line 1)) (2.0.0)\n",
      "Requirement already satisfied: asttokens==2.4.1 in c:\\users\\ismai\\onedrive\\masaüstü\\ai-project\\myenv\\lib\\site-packages (from -r requirements.txt (line 2)) (2.4.1)\n",
      "Requirement already satisfied: astunparse==1.6.3 in c:\\users\\ismai\\onedrive\\masaüstü\\ai-project\\myenv\\lib\\site-packages (from -r requirements.txt (line 3)) (1.6.3)\n",
      "Requirement already satisfied: cachetools==5.3.2 in c:\\users\\ismai\\onedrive\\masaüstü\\ai-project\\myenv\\lib\\site-packages (from -r requirements.txt (line 4)) (5.3.2)\n",
      "Requirement already satisfied: certifi==2023.11.17 in c:\\users\\ismai\\onedrive\\masaüstü\\ai-project\\myenv\\lib\\site-packages (from -r requirements.txt (line 5)) (2023.11.17)\n",
      "Requirement already satisfied: charset-normalizer==3.3.2 in c:\\users\\ismai\\onedrive\\masaüstü\\ai-project\\myenv\\lib\\site-packages (from -r requirements.txt (line 6)) (3.3.2)\n",
      "Requirement already satisfied: colorama==0.4.6 in c:\\users\\ismai\\onedrive\\masaüstü\\ai-project\\myenv\\lib\\site-packages (from -r requirements.txt (line 7)) (0.4.6)\n",
      "Requirement already satisfied: comm==0.2.1 in c:\\users\\ismai\\onedrive\\masaüstü\\ai-project\\myenv\\lib\\site-packages (from -r requirements.txt (line 8)) (0.2.1)\n",
      "Requirement already satisfied: contourpy==1.2.0 in c:\\users\\ismai\\onedrive\\masaüstü\\ai-project\\myenv\\lib\\site-packages (from -r requirements.txt (line 9)) (1.2.0)\n",
      "Requirement already satisfied: cycler==0.12.1 in c:\\users\\ismai\\onedrive\\masaüstü\\ai-project\\myenv\\lib\\site-packages (from -r requirements.txt (line 10)) (0.12.1)\n",
      "Requirement already satisfied: debugpy==1.8.0 in c:\\users\\ismai\\onedrive\\masaüstü\\ai-project\\myenv\\lib\\site-packages (from -r requirements.txt (line 11)) (1.8.0)\n",
      "Requirement already satisfied: decorator==5.1.1 in c:\\users\\ismai\\onedrive\\masaüstü\\ai-project\\myenv\\lib\\site-packages (from -r requirements.txt (line 12)) (5.1.1)\n",
      "Requirement already satisfied: distlib==0.3.8 in c:\\users\\ismai\\onedrive\\masaüstü\\ai-project\\myenv\\lib\\site-packages (from -r requirements.txt (line 13)) (0.3.8)\n",
      "Requirement already satisfied: executing==2.0.1 in c:\\users\\ismai\\onedrive\\masaüstü\\ai-project\\myenv\\lib\\site-packages (from -r requirements.txt (line 14)) (2.0.1)\n",
      "Requirement already satisfied: filelock==3.13.1 in c:\\users\\ismai\\onedrive\\masaüstü\\ai-project\\myenv\\lib\\site-packages (from -r requirements.txt (line 15)) (3.13.1)\n",
      "Requirement already satisfied: flatbuffers==23.5.26 in c:\\users\\ismai\\onedrive\\masaüstü\\ai-project\\myenv\\lib\\site-packages (from -r requirements.txt (line 16)) (23.5.26)\n",
      "Requirement already satisfied: fonttools==4.47.0 in c:\\users\\ismai\\onedrive\\masaüstü\\ai-project\\myenv\\lib\\site-packages (from -r requirements.txt (line 17)) (4.47.0)\n",
      "Requirement already satisfied: gast==0.5.4 in c:\\users\\ismai\\onedrive\\masaüstü\\ai-project\\myenv\\lib\\site-packages (from -r requirements.txt (line 18)) (0.5.4)\n",
      "Requirement already satisfied: google-auth==2.26.1 in c:\\users\\ismai\\onedrive\\masaüstü\\ai-project\\myenv\\lib\\site-packages (from -r requirements.txt (line 19)) (2.26.1)\n",
      "Requirement already satisfied: google-auth-oauthlib==1.2.0 in c:\\users\\ismai\\onedrive\\masaüstü\\ai-project\\myenv\\lib\\site-packages (from -r requirements.txt (line 20)) (1.2.0)\n",
      "Requirement already satisfied: google-pasta==0.2.0 in c:\\users\\ismai\\onedrive\\masaüstü\\ai-project\\myenv\\lib\\site-packages (from -r requirements.txt (line 21)) (0.2.0)\n",
      "Requirement already satisfied: grpcio==1.60.0 in c:\\users\\ismai\\onedrive\\masaüstü\\ai-project\\myenv\\lib\\site-packages (from -r requirements.txt (line 22)) (1.60.0)\n",
      "Requirement already satisfied: h5py==3.10.0 in c:\\users\\ismai\\onedrive\\masaüstü\\ai-project\\myenv\\lib\\site-packages (from -r requirements.txt (line 23)) (3.10.0)\n",
      "Requirement already satisfied: idna==3.6 in c:\\users\\ismai\\onedrive\\masaüstü\\ai-project\\myenv\\lib\\site-packages (from -r requirements.txt (line 24)) (3.6)\n",
      "Requirement already satisfied: ipykernel==6.28.0 in c:\\users\\ismai\\onedrive\\masaüstü\\ai-project\\myenv\\lib\\site-packages (from -r requirements.txt (line 25)) (6.28.0)\n",
      "Requirement already satisfied: ipython==8.19.0 in c:\\users\\ismai\\onedrive\\masaüstü\\ai-project\\myenv\\lib\\site-packages (from -r requirements.txt (line 26)) (8.19.0)\n",
      "Requirement already satisfied: jedi==0.19.1 in c:\\users\\ismai\\onedrive\\masaüstü\\ai-project\\myenv\\lib\\site-packages (from -r requirements.txt (line 27)) (0.19.1)\n",
      "Requirement already satisfied: joblib==1.3.2 in c:\\users\\ismai\\onedrive\\masaüstü\\ai-project\\myenv\\lib\\site-packages (from -r requirements.txt (line 28)) (1.3.2)\n",
      "Requirement already satisfied: jupyter_client==8.6.0 in c:\\users\\ismai\\onedrive\\masaüstü\\ai-project\\myenv\\lib\\site-packages (from -r requirements.txt (line 29)) (8.6.0)\n",
      "Requirement already satisfied: jupyter_core==5.7.0 in c:\\users\\ismai\\onedrive\\masaüstü\\ai-project\\myenv\\lib\\site-packages (from -r requirements.txt (line 30)) (5.7.0)\n",
      "Requirement already satisfied: keras==2.15.0 in c:\\users\\ismai\\onedrive\\masaüstü\\ai-project\\myenv\\lib\\site-packages (from -r requirements.txt (line 31)) (2.15.0)\n",
      "Requirement already satisfied: keras-resnet==0.2.0 in c:\\users\\ismai\\onedrive\\masaüstü\\ai-project\\myenv\\lib\\site-packages (from -r requirements.txt (line 32)) (0.2.0)\n",
      "Requirement already satisfied: kiwisolver==1.4.5 in c:\\users\\ismai\\onedrive\\masaüstü\\ai-project\\myenv\\lib\\site-packages (from -r requirements.txt (line 33)) (1.4.5)\n",
      "Requirement already satisfied: libclang==16.0.6 in c:\\users\\ismai\\onedrive\\masaüstü\\ai-project\\myenv\\lib\\site-packages (from -r requirements.txt (line 34)) (16.0.6)\n",
      "Requirement already satisfied: Markdown==3.5.1 in c:\\users\\ismai\\onedrive\\masaüstü\\ai-project\\myenv\\lib\\site-packages (from -r requirements.txt (line 35)) (3.5.1)\n",
      "Requirement already satisfied: MarkupSafe==2.1.3 in c:\\users\\ismai\\onedrive\\masaüstü\\ai-project\\myenv\\lib\\site-packages (from -r requirements.txt (line 36)) (2.1.3)\n",
      "Requirement already satisfied: matplotlib==3.8.2 in c:\\users\\ismai\\onedrive\\masaüstü\\ai-project\\myenv\\lib\\site-packages (from -r requirements.txt (line 37)) (3.8.2)\n",
      "Requirement already satisfied: matplotlib-inline==0.1.6 in c:\\users\\ismai\\onedrive\\masaüstü\\ai-project\\myenv\\lib\\site-packages (from -r requirements.txt (line 38)) (0.1.6)\n",
      "Requirement already satisfied: ml-dtypes==0.2.0 in c:\\users\\ismai\\onedrive\\masaüstü\\ai-project\\myenv\\lib\\site-packages (from -r requirements.txt (line 39)) (0.2.0)\n",
      "Requirement already satisfied: nest-asyncio==1.5.8 in c:\\users\\ismai\\onedrive\\masaüstü\\ai-project\\myenv\\lib\\site-packages (from -r requirements.txt (line 40)) (1.5.8)\n",
      "Requirement already satisfied: numpy==1.26.3 in c:\\users\\ismai\\onedrive\\masaüstü\\ai-project\\myenv\\lib\\site-packages (from -r requirements.txt (line 41)) (1.26.3)\n",
      "Requirement already satisfied: oauthlib==3.2.2 in c:\\users\\ismai\\onedrive\\masaüstü\\ai-project\\myenv\\lib\\site-packages (from -r requirements.txt (line 42)) (3.2.2)\n",
      "Requirement already satisfied: opencv-python==4.9.0.80 in c:\\users\\ismai\\onedrive\\masaüstü\\ai-project\\myenv\\lib\\site-packages (from -r requirements.txt (line 43)) (4.9.0.80)\n",
      "Requirement already satisfied: opt-einsum==3.3.0 in c:\\users\\ismai\\onedrive\\masaüstü\\ai-project\\myenv\\lib\\site-packages (from -r requirements.txt (line 44)) (3.3.0)\n",
      "Requirement already satisfied: packaging==23.2 in c:\\users\\ismai\\onedrive\\masaüstü\\ai-project\\myenv\\lib\\site-packages (from -r requirements.txt (line 45)) (23.2)\n",
      "Requirement already satisfied: parso==0.8.3 in c:\\users\\ismai\\onedrive\\masaüstü\\ai-project\\myenv\\lib\\site-packages (from -r requirements.txt (line 46)) (0.8.3)\n",
      "Requirement already satisfied: pillow==10.2.0 in c:\\users\\ismai\\onedrive\\masaüstü\\ai-project\\myenv\\lib\\site-packages (from -r requirements.txt (line 47)) (10.2.0)\n",
      "Requirement already satisfied: platformdirs==4.1.0 in c:\\users\\ismai\\onedrive\\masaüstü\\ai-project\\myenv\\lib\\site-packages (from -r requirements.txt (line 48)) (4.1.0)\n",
      "Requirement already satisfied: prompt-toolkit==3.0.43 in c:\\users\\ismai\\onedrive\\masaüstü\\ai-project\\myenv\\lib\\site-packages (from -r requirements.txt (line 49)) (3.0.43)\n",
      "Requirement already satisfied: protobuf==4.23.4 in c:\\users\\ismai\\onedrive\\masaüstü\\ai-project\\myenv\\lib\\site-packages (from -r requirements.txt (line 50)) (4.23.4)\n",
      "Requirement already satisfied: psutil==5.9.7 in c:\\users\\ismai\\onedrive\\masaüstü\\ai-project\\myenv\\lib\\site-packages (from -r requirements.txt (line 51)) (5.9.7)\n",
      "Requirement already satisfied: pure-eval==0.2.2 in c:\\users\\ismai\\onedrive\\masaüstü\\ai-project\\myenv\\lib\\site-packages (from -r requirements.txt (line 52)) (0.2.2)\n",
      "Requirement already satisfied: pyasn1==0.5.1 in c:\\users\\ismai\\onedrive\\masaüstü\\ai-project\\myenv\\lib\\site-packages (from -r requirements.txt (line 53)) (0.5.1)\n",
      "Requirement already satisfied: pyasn1-modules==0.3.0 in c:\\users\\ismai\\onedrive\\masaüstü\\ai-project\\myenv\\lib\\site-packages (from -r requirements.txt (line 54)) (0.3.0)\n",
      "Requirement already satisfied: Pygments==2.17.2 in c:\\users\\ismai\\onedrive\\masaüstü\\ai-project\\myenv\\lib\\site-packages (from -r requirements.txt (line 55)) (2.17.2)\n",
      "Requirement already satisfied: pyparsing==3.1.1 in c:\\users\\ismai\\onedrive\\masaüstü\\ai-project\\myenv\\lib\\site-packages (from -r requirements.txt (line 56)) (3.1.1)\n",
      "Requirement already satisfied: python-dateutil==2.8.2 in c:\\users\\ismai\\onedrive\\masaüstü\\ai-project\\myenv\\lib\\site-packages (from -r requirements.txt (line 57)) (2.8.2)\n",
      "Requirement already satisfied: pywin32==306 in c:\\users\\ismai\\onedrive\\masaüstü\\ai-project\\myenv\\lib\\site-packages (from -r requirements.txt (line 58)) (306)\n",
      "Requirement already satisfied: pyzmq==25.1.2 in c:\\users\\ismai\\onedrive\\masaüstü\\ai-project\\myenv\\lib\\site-packages (from -r requirements.txt (line 59)) (25.1.2)\n",
      "Requirement already satisfied: requests==2.31.0 in c:\\users\\ismai\\onedrive\\masaüstü\\ai-project\\myenv\\lib\\site-packages (from -r requirements.txt (line 60)) (2.31.0)\n",
      "Requirement already satisfied: requests-oauthlib==1.3.1 in c:\\users\\ismai\\onedrive\\masaüstü\\ai-project\\myenv\\lib\\site-packages (from -r requirements.txt (line 61)) (1.3.1)\n",
      "Requirement already satisfied: rsa==4.9 in c:\\users\\ismai\\onedrive\\masaüstü\\ai-project\\myenv\\lib\\site-packages (from -r requirements.txt (line 62)) (4.9)\n",
      "Requirement already satisfied: scikit-learn==1.3.2 in c:\\users\\ismai\\onedrive\\masaüstü\\ai-project\\myenv\\lib\\site-packages (from -r requirements.txt (line 63)) (1.3.2)\n",
      "Requirement already satisfied: scipy==1.11.4 in c:\\users\\ismai\\onedrive\\masaüstü\\ai-project\\myenv\\lib\\site-packages (from -r requirements.txt (line 64)) (1.11.4)\n",
      "Requirement already satisfied: six==1.16.0 in c:\\users\\ismai\\onedrive\\masaüstü\\ai-project\\myenv\\lib\\site-packages (from -r requirements.txt (line 65)) (1.16.0)\n",
      "Requirement already satisfied: spicy==0.16.0 in c:\\users\\ismai\\onedrive\\masaüstü\\ai-project\\myenv\\lib\\site-packages (from -r requirements.txt (line 66)) (0.16.0)\n",
      "Requirement already satisfied: split-folders==0.5.1 in c:\\users\\ismai\\onedrive\\masaüstü\\ai-project\\myenv\\lib\\site-packages (from -r requirements.txt (line 67)) (0.5.1)\n",
      "Requirement already satisfied: stack-data==0.6.3 in c:\\users\\ismai\\onedrive\\masaüstü\\ai-project\\myenv\\lib\\site-packages (from -r requirements.txt (line 68)) (0.6.3)\n",
      "Requirement already satisfied: tensorboard==2.15.1 in c:\\users\\ismai\\onedrive\\masaüstü\\ai-project\\myenv\\lib\\site-packages (from -r requirements.txt (line 69)) (2.15.1)\n",
      "Requirement already satisfied: tensorboard-data-server==0.7.2 in c:\\users\\ismai\\onedrive\\masaüstü\\ai-project\\myenv\\lib\\site-packages (from -r requirements.txt (line 70)) (0.7.2)\n",
      "Requirement already satisfied: tensorflow==2.15.0 in c:\\users\\ismai\\onedrive\\masaüstü\\ai-project\\myenv\\lib\\site-packages (from -r requirements.txt (line 71)) (2.15.0)\n",
      "Requirement already satisfied: tensorflow-estimator==2.15.0 in c:\\users\\ismai\\onedrive\\masaüstü\\ai-project\\myenv\\lib\\site-packages (from -r requirements.txt (line 72)) (2.15.0)\n",
      "Requirement already satisfied: tensorflow-intel==2.15.0 in c:\\users\\ismai\\onedrive\\masaüstü\\ai-project\\myenv\\lib\\site-packages (from -r requirements.txt (line 73)) (2.15.0)\n",
      "Requirement already satisfied: tensorflow-io-gcs-filesystem==0.31.0 in c:\\users\\ismai\\onedrive\\masaüstü\\ai-project\\myenv\\lib\\site-packages (from -r requirements.txt (line 74)) (0.31.0)\n",
      "Requirement already satisfied: termcolor==2.4.0 in c:\\users\\ismai\\onedrive\\masaüstü\\ai-project\\myenv\\lib\\site-packages (from -r requirements.txt (line 75)) (2.4.0)\n",
      "Requirement already satisfied: threadpoolctl==3.2.0 in c:\\users\\ismai\\onedrive\\masaüstü\\ai-project\\myenv\\lib\\site-packages (from -r requirements.txt (line 76)) (3.2.0)\n",
      "Requirement already satisfied: tornado==6.4 in c:\\users\\ismai\\onedrive\\masaüstü\\ai-project\\myenv\\lib\\site-packages (from -r requirements.txt (line 77)) (6.4)\n",
      "Requirement already satisfied: traitlets==5.14.1 in c:\\users\\ismai\\onedrive\\masaüstü\\ai-project\\myenv\\lib\\site-packages (from -r requirements.txt (line 78)) (5.14.1)\n",
      "Requirement already satisfied: typing_extensions==4.9.0 in c:\\users\\ismai\\onedrive\\masaüstü\\ai-project\\myenv\\lib\\site-packages (from -r requirements.txt (line 79)) (4.9.0)\n",
      "Requirement already satisfied: urllib3==2.1.0 in c:\\users\\ismai\\onedrive\\masaüstü\\ai-project\\myenv\\lib\\site-packages (from -r requirements.txt (line 80)) (2.1.0)\n",
      "Requirement already satisfied: virtualenv==20.25.0 in c:\\users\\ismai\\onedrive\\masaüstü\\ai-project\\myenv\\lib\\site-packages (from -r requirements.txt (line 81)) (20.25.0)\n",
      "Requirement already satisfied: wcwidth==0.2.13 in c:\\users\\ismai\\onedrive\\masaüstü\\ai-project\\myenv\\lib\\site-packages (from -r requirements.txt (line 82)) (0.2.13)\n",
      "Requirement already satisfied: Werkzeug==3.0.1 in c:\\users\\ismai\\onedrive\\masaüstü\\ai-project\\myenv\\lib\\site-packages (from -r requirements.txt (line 83)) (3.0.1)\n",
      "Requirement already satisfied: wrapt==1.14.1 in c:\\users\\ismai\\onedrive\\masaüstü\\ai-project\\myenv\\lib\\site-packages (from -r requirements.txt (line 84)) (1.14.1)\n",
      "Requirement already satisfied: wheel<1.0,>=0.23.0 in c:\\users\\ismai\\onedrive\\masaüstü\\ai-project\\myenv\\lib\\site-packages (from astunparse==1.6.3->-r requirements.txt (line 3)) (0.42.0)\n",
      "Requirement already satisfied: setuptools>=41.0.0 in c:\\users\\ismai\\onedrive\\masaüstü\\ai-project\\myenv\\lib\\site-packages (from tensorboard==2.15.1->-r requirements.txt (line 69)) (65.5.0)\n"
     ]
    }
   ],
   "source": [
    "!pip3 install -r requirements.txt"
   ]
  }
 ],
 "metadata": {
  "kernelspec": {
   "display_name": "myenv",
   "language": "python",
   "name": "python3"
  },
  "language_info": {
   "codemirror_mode": {
    "name": "ipython",
    "version": 3
   },
   "file_extension": ".py",
   "mimetype": "text/x-python",
   "name": "python",
   "nbconvert_exporter": "python",
   "pygments_lexer": "ipython3",
   "version": "3.11.7"
  }
 },
 "nbformat": 4,
 "nbformat_minor": 2
}
